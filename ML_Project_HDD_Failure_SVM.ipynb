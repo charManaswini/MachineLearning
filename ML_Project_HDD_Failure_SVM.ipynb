{
  "nbformat": 4,
  "nbformat_minor": 0,
  "metadata": {
    "colab": {
      "provenance": []
    },
    "kernelspec": {
      "name": "python3",
      "display_name": "Python 3"
    },
    "language_info": {
      "name": "python"
    }
  },
  "cells": [
    {
      "cell_type": "code",
      "execution_count": null,
      "metadata": {
        "id": "nLaKQsYvyNp-"
      },
      "outputs": [],
      "source": [
        "import pandas as pd\n",
        "import numpy as np\n",
        "from sklearn.model_selection import train_test_split\n",
        "from sklearn.preprocessing import StandardScaler\n",
        "from sklearn.svm import SVC\n",
        "from sklearn.metrics import accuracy_score, f1_score, classification_report\n",
        "from sklearn.impute import SimpleImputer  # Import imputer for handling missing values\n",
        "import matplotlib.pyplot as plt\n",
        "\n",
        "# Load your data\n",
        "\n",
        "df = pd.read_csv('hdddata.csv')\n",
        "\n",
        "# Split your data into training and testing sets\n",
        "X = df.drop('failure', axis=1)\n",
        "y = df['failure']\n",
        "X_train, X_test, y_train, y_test = train_test_split(X, y, test_size=0.2, random_state=42)\n",
        "\n",
        "# Handle missing values (NaN) by imputing with mean values\n",
        "imputer = SimpleImputer(strategy='mean')\n",
        "X_train = imputer.fit_transform(X_train)\n",
        "X_test = imputer.transform(X_test)\n",
        "\n",
        "# Standardize your feature data\n",
        "scaler = StandardScaler()\n",
        "X_train = scaler.fit_transform(X_train)\n",
        "X_test = scaler.transform(X_test)\n",
        "\n",
        "# Train an SVM classifier\n",
        "svm_classifier = SVC(kernel='linear')\n",
        "svm_classifier.fit(X_train, y_train)\n",
        "\n",
        "# Make predictions\n",
        "y_pred = svm_classifier.predict(X_test)\n",
        "\n",
        "# Calculate accuracy and F1 score\n",
        "accuracy = accuracy_score(y_test, y_pred)\n",
        "f1 = f1_score(y_test, y_pred)\n",
        "\n",
        "print(f\"Accuracy: {accuracy:.2f}\")\n",
        "print(f\"F1 Score: {f1:.2f}\")\n",
        "\n",
        "# Print classification report\n",
        "report = classification_report(y_test, y_pred)\n",
        "print(report)\n",
        "\n",
        "# Visualize the SVM decision boundary for two features (you can modify this part as needed)\n",
        "feature1_index = 0\n",
        "feature2_index = 1\n",
        "\n",
        "X_plot = X_train[:, [feature1_index, feature2_index]]\n",
        "\n",
        "# Create a mesh grid to plot the decision boundary\n",
        "xx, yy = np.meshgrid(np.linspace(X_plot[:, 0].min() - 1, X_plot[:, 0].max() + 1, 100),\n",
        "                     np.linspace(X_plot[:, 1].min() - 1, X_plot[:, 1].max() + 1, 100))\n",
        "\n",
        "# Get decision boundary\n",
        "Z = svm_classifier.decision_function(np.c_[xx.ravel(), yy.ravel()])\n",
        "Z = Z.reshape(xx.shape)\n",
        "\n",
        "# Plot decision boundary\n",
        "plt.contourf(xx, yy, Z, cmap=plt.cm.coolwarm, alpha=0.8)\n",
        "plt.scatter(X_plot[:, 0], X_plot[:, 1], c=y_train, cmap=plt.cm.coolwarm)\n",
        "plt.xlabel(f'SMART Attribute {feature1_index}')\n",
        "plt.ylabel(f'SMART Attribute {feature2_index}')\n",
        "plt.title('SVM Decision Boundary')\n",
        "plt.show()\n"
      ]
    }
  ]
}