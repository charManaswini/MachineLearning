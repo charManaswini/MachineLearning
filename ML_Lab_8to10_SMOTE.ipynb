{
  "nbformat": 4,
  "nbformat_minor": 0,
  "metadata": {
    "colab": {
      "provenance": []
    },
    "kernelspec": {
      "name": "python3",
      "display_name": "Python 3"
    },
    "language_info": {
      "name": "python"
    }
  },
  "cells": [
    {
      "cell_type": "code",
      "execution_count": 2,
      "metadata": {
        "colab": {
          "base_uri": "https://localhost:8080/"
        },
        "id": "qzCz9Dpmvn64",
        "outputId": "641ce3bb-f6f4-4525-83cc-1627ef51932b"
      },
      "outputs": [
        {
          "output_type": "stream",
          "name": "stdout",
          "text": [
            "Results before SMOTE:\n",
            "Accuracy: 0.9990133656072406\n",
            "Classification Report:\n",
            "               precision    recall  f1-score   support\n",
            "\n",
            "           0       1.00      1.00      1.00     73447\n",
            "           1       0.99      0.98      0.99      2569\n",
            "\n",
            "    accuracy                           1.00     76016\n",
            "   macro avg       0.99      0.99      0.99     76016\n",
            "weighted avg       1.00      1.00      1.00     76016\n",
            "\n",
            "\n",
            "Results after SMOTE:\n",
            "Accuracy: 0.9858713954956851\n",
            "Classification Report:\n",
            "               precision    recall  f1-score   support\n",
            "\n",
            "           0       0.99      0.99      0.99     73447\n",
            "           1       0.79      0.79      0.79      2569\n",
            "\n",
            "    accuracy                           0.99     76016\n",
            "   macro avg       0.89      0.89      0.89     76016\n",
            "weighted avg       0.99      0.99      0.99     76016\n",
            "\n"
          ]
        },
        {
          "output_type": "stream",
          "name": "stderr",
          "text": [
            "/usr/local/lib/python3.10/dist-packages/sklearn/base.py:439: UserWarning: X does not have valid feature names, but SimpleImputer was fitted with feature names\n",
            "  warnings.warn(\n"
          ]
        }
      ],
      "source": [
        "import pandas as pd\n",
        "from sklearn.model_selection import train_test_split\n",
        "from sklearn.tree import DecisionTreeClassifier\n",
        "from sklearn.metrics import accuracy_score, classification_report\n",
        "from sklearn.impute import SimpleImputer\n",
        "from imblearn.over_sampling import SMOTE\n",
        "\n",
        "# Load the dataset\n",
        "file_path = 'hdddata.csv'\n",
        "df = pd.read_csv(file_path)\n",
        "\n",
        "# Separate features (X) and target variable (y)\n",
        "X = df.drop('failure', axis=1)\n",
        "y = df['failure']\n",
        "\n",
        "# Handle NaN values using SimpleImputer (replace NaN with the mean)\n",
        "imputer = SimpleImputer(strategy='mean')\n",
        "X = imputer.fit_transform(X)\n",
        "\n",
        "# Split the data into training and testing sets\n",
        "X_train, X_test, y_train, y_test = train_test_split(X, y, test_size=0.2, random_state=42)\n",
        "\n",
        "# Train a decision tree classifier on the original dataset\n",
        "original_model = DecisionTreeClassifier(random_state=42)\n",
        "original_model.fit(X_train, y_train)\n",
        "\n",
        "# Make predictions on the test set\n",
        "y_pred_original = original_model.predict(X_test)\n",
        "\n",
        "# Evaluate the performance of the original model\n",
        "print(\"Results before SMOTE:\")\n",
        "print(\"Accuracy:\", accuracy_score(y_test, y_pred_original))\n",
        "print(\"Classification Report:\\n\", classification_report(y_test, y_pred_original))\n",
        "\n",
        "# Apply SMOTE to balance the dataset\n",
        "smote = SMOTE(random_state=42)\n",
        "X_train_smote, y_train_smote = smote.fit_resample(X_train, y_train)\n",
        "\n",
        "# Train a decision tree classifier on the SMOTE dataset\n",
        "smote_model = DecisionTreeClassifier(random_state=42)\n",
        "smote_model.fit(X_train_smote, y_train_smote)\n",
        "\n",
        "# Make predictions on the test set using the model trained on SMOTE dataset\n",
        "X_test = imputer.transform(X_test)  # Impute test set as well\n",
        "y_pred_smote = smote_model.predict(X_test)\n",
        "\n",
        "# Evaluate the performance of the model after SMOTE\n",
        "print(\"\\nResults after SMOTE:\")\n",
        "print(\"Accuracy:\", accuracy_score(y_test, y_pred_smote))\n",
        "print(\"Classification Report:\\n\", classification_report(y_test, y_pred_smote))\n"
      ]
    },
    {
      "cell_type": "code",
      "source": [
        "import pandas as pd\n",
        "from sklearn.model_selection import train_test_split\n",
        "from sklearn.ensemble import RandomForestClassifier\n",
        "from sklearn.metrics import accuracy_score, classification_report\n",
        "from sklearn.impute import SimpleImputer\n",
        "from imblearn.over_sampling import SMOTE\n",
        "\n",
        "# Load the dataset\n",
        "file_path = 'hdddata.csv'\n",
        "df = pd.read_csv(file_path)\n",
        "\n",
        "# Separate features (X) and target variable (y)\n",
        "X = df.drop('failure', axis=1)\n",
        "y = df['failure']\n",
        "\n",
        "# Handle NaN values using SimpleImputer (replace NaN with the mean)\n",
        "imputer = SimpleImputer(strategy='mean')\n",
        "X = imputer.fit_transform(X)\n",
        "\n",
        "# Split the data into training and testing sets\n",
        "X_train, X_test, y_train, y_test = train_test_split(X, y, test_size=0.2, random_state=42)\n",
        "\n",
        "# Train a Random Forest classifier on the original dataset\n",
        "original_model = RandomForestClassifier(random_state=42)\n",
        "original_model.fit(X_train, y_train)\n",
        "\n",
        "# Make predictions on the test set\n",
        "y_pred_original = original_model.predict(X_test)\n",
        "\n",
        "# Evaluate the performance of the original model\n",
        "print(\"Results before SMOTE:\")\n",
        "print(\"Accuracy:\", accuracy_score(y_test, y_pred_original))\n",
        "print(\"Classification Report:\\n\", classification_report(y_test, y_pred_original))\n",
        "\n",
        "# Apply SMOTE to balance the dataset\n",
        "smote = SMOTE(random_state=42)\n",
        "X_train_smote, y_train_smote = smote.fit_resample(X_train, y_train)\n",
        "\n",
        "# Train a Random Forest classifier on the SMOTE dataset\n",
        "smote_model = RandomForestClassifier(random_state=42)\n",
        "smote_model.fit(X_train_smote, y_train_smote)\n",
        "\n",
        "# Make predictions on the test set using the model trained on SMOTE dataset\n",
        "X_test = imputer.transform(X_test)  # Impute test set as well\n",
        "y_pred_smote = smote_model.predict(X_test)\n",
        "\n",
        "# Evaluate the performance of the model after SMOTE\n",
        "print(\"\\nResults after SMOTE:\")\n",
        "print(\"Accuracy:\", accuracy_score(y_test, y_pred_smote))\n",
        "print(\"Classification Report:\\n\", classification_report(y_test, y_pred_smote))\n"
      ],
      "metadata": {
        "id": "rY0KwSHE2y8u",
        "colab": {
          "base_uri": "https://localhost:8080/"
        },
        "outputId": "fa9156b6-8e63-4508-c7f5-3de39bd31cb5"
      },
      "execution_count": 3,
      "outputs": [
        {
          "output_type": "stream",
          "name": "stdout",
          "text": [
            "Results before SMOTE:\n",
            "Accuracy: 0.9992106924857924\n",
            "Classification Report:\n",
            "               precision    recall  f1-score   support\n",
            "\n",
            "           0       1.00      1.00      1.00     73447\n",
            "           1       1.00      0.98      0.99      2569\n",
            "\n",
            "    accuracy                           1.00     76016\n",
            "   macro avg       1.00      0.99      0.99     76016\n",
            "weighted avg       1.00      1.00      1.00     76016\n",
            "\n"
          ]
        },
        {
          "output_type": "stream",
          "name": "stderr",
          "text": [
            "/usr/local/lib/python3.10/dist-packages/sklearn/base.py:439: UserWarning: X does not have valid feature names, but SimpleImputer was fitted with feature names\n",
            "  warnings.warn(\n"
          ]
        },
        {
          "output_type": "stream",
          "name": "stdout",
          "text": [
            "\n",
            "Results after SMOTE:\n",
            "Accuracy: 0.9986187118501368\n",
            "Classification Report:\n",
            "               precision    recall  f1-score   support\n",
            "\n",
            "           0       1.00      1.00      1.00     73447\n",
            "           1       1.00      0.96      0.98      2569\n",
            "\n",
            "    accuracy                           1.00     76016\n",
            "   macro avg       1.00      0.98      0.99     76016\n",
            "weighted avg       1.00      1.00      1.00     76016\n",
            "\n"
          ]
        }
      ]
    },
    {
      "cell_type": "code",
      "source": [],
      "metadata": {
        "id": "HEB21ZgcLv-S"
      },
      "execution_count": null,
      "outputs": []
    }
  ]
}